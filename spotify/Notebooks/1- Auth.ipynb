{
 "cells": [
  {
   "cell_type": "code",
   "execution_count": 1,
   "metadata": {},
   "outputs": [],
   "source": [
    "client_id = '2476c1f2ab024aae8debc9146cd01926'\n",
    "client_secret = '5628b40e45294570a9b115af35654b64'"
   ]
  },
  {
   "cell_type": "markdown",
   "metadata": {},
   "source": [
    "Steps:\n",
    "    1. look up for a token (the clinet id and the pass id togather makes the token)\n",
    "    2. those tokens will be used for the future requests"
   ]
  },
  {
   "cell_type": "code",
   "execution_count": 2,
   "metadata": {},
   "outputs": [],
   "source": [
    "# url of the token\n",
    "\n",
    "token_url = 'https://accounts.spotify.com/api/token'\n",
    "token_method = 'POST'"
   ]
  },
  {
   "cell_type": "markdown",
   "metadata": {},
   "source": [
    "Spotify always understand the ```Base64``` encoding. Now a string\n",
    "encoding is a method where a string is encoded in a specific form\n",
    "like, from string to its binary form. \n",
    "\n",
    "for e.g str = 'I love apple', its ending in byte encoded will be b'I love apple'\n",
    "similarly in spotify there is a base64 encoding which is compltely \n",
    "different than byte encoding. That encoding is shown below"
   ]
  },
  {
   "cell_type": "code",
   "execution_count": 3,
   "metadata": {},
   "outputs": [],
   "source": [
    "import base64"
   ]
  },
  {
   "cell_type": "code",
   "execution_count": 4,
   "metadata": {},
   "outputs": [],
   "source": [
    "client_creds = f'{client_id}:{client_secret}'\n",
    "client_creds_base64 = base64.b64encode(client_creds.encode())\n",
    "\n",
    "print(client_creds_base64)"
   ]
  },
  {
   "cell_type": "code",
   "execution_count": 5,
   "metadata": {},
   "outputs": [],
   "source": [
    "# setting the parameters\n",
    "\n",
    "token_data = {\n",
    "    'grant_type': 'client_credentials'\n",
    "}\n",
    "\n",
    "token_headers = {\n",
    "    'Authorization': f'Basic {client_creds_base64.decode()}' # Basic, is written according to spotify documentation format\n",
    "}\n",
    "\n",
    "# as format of Base64 is bytes, so here it is not acceptable, so its been decoded to string (as it is base64 encoded string)\n",
    "\n",
    "print(token_headers)"
   ]
  },
  {
   "cell_type": "markdown",
   "metadata": {},
   "source": [
    "Now as we got every parameters for gebarating the token for auth, so we are ready to go now"
   ]
  },
  {
   "cell_type": "code",
   "execution_count": 6,
   "metadata": {},
   "outputs": [],
   "source": [
    "import requests\n",
    "import datetime\n",
    "import json"
   ]
  },
  {
   "cell_type": "code",
   "execution_count": 7,
   "metadata": {},
   "outputs": [],
   "source": [
    "r = requests.post(\n",
    "                url = token_url,\n",
    "                data = token_data,\n",
    "                headers = token_headers)"
   ]
  },
  {
   "cell_type": "code",
   "execution_count": 8,
   "metadata": {},
   "outputs": [],
   "source": [
    "'''\n",
    "check whether the request is valid or nor, if \n",
    "valid then proceed for the other steps\n",
    "'''\n",
    "\n",
    "is_valid = r.status_code in range(200, 299)"
   ]
  },
  {
   "cell_type": "code",
   "execution_count": 9,
   "metadata": {},
   "outputs": [
    {
     "name": "stdout",
     "output_type": "stream",
     "text": [
      "{\n",
      " \"access_token\": \"BQCoz9miova7_G_OKSX7HxNDMljB9m5LZPFatDvd-mFRtcpvFbbXulohdbbId1dAuSKjgyWc2NXmOvF-NUg\",\n",
      " \"token_type\": \"Bearer\",\n",
      " \"expires_in\": 3600\n",
      "} \n",
      "\n",
      "2021-06-26 12:37:05.172977 \n",
      " 2021-06-26 13:37:05.172977\n"
     ]
    }
   ],
   "source": [
    "if is_valid:\n",
    "    token_response_data = r.json()\n",
    "    now = datetime.datetime.now()\n",
    "\n",
    "    access_token = token_response_data['access_token']\n",
    "    expires_in = token_response_data['expires_in'] # in seconds\n",
    "    expires = now + datetime.timedelta(seconds=expires_in)\n",
    "\n",
    "    did_expire = expires < now\n",
    "\n",
    "'''\n",
    "for example if now = 11:32 (am)\n",
    "and expires = 12:32(pm)\n",
    "so delta is of 3600 sec\n",
    "and if initially 12:32 > 11:32 (did_expire=False), but when now = 12:33 or greater\n",
    "the did_expire = True\n",
    "'''\n",
    "\n",
    "print(json.dumps(token_response_data, indent=1), \"\\n\")\n",
    "print(now, '\\n', expires)"
   ]
  },
  {
   "cell_type": "code",
   "execution_count": null,
   "metadata": {},
   "outputs": [],
   "source": []
  }
 ],
 "metadata": {
  "kernelspec": {
   "display_name": "Python 3",
   "language": "python",
   "name": "python3"
  },
  "language_info": {
   "codemirror_mode": {
    "name": "ipython",
    "version": 3
   },
   "file_extension": ".py",
   "mimetype": "text/x-python",
   "name": "python",
   "nbconvert_exporter": "python",
   "pygments_lexer": "ipython3",
   "version": "3.8.5"
  }
 },
 "nbformat": 4,
 "nbformat_minor": 4
}
