{
 "cells": [
  {
   "cell_type": "code",
   "execution_count": 1,
   "metadata": {},
   "outputs": [],
   "source": [
    "import requests\n",
    "import json\n",
    "import datetime\n",
    "import base64"
   ]
  },
  {
   "cell_type": "code",
   "execution_count": 2,
   "metadata": {},
   "outputs": [],
   "source": [
    "class SpotifyClient:\n",
    "    def __init__(self, client_id, client_secret):\n",
    "        self.client_id = client_id\n",
    "        self.client_secret = client_secret\n",
    "        self.token_url = 'https://accounts.spotify.com/api/token'\n",
    "        self.token_method = 'POST'\n",
    "\n",
    "        self.access_token = None\n",
    "        self.token_expires = datetime.datetime.now()\n",
    "        self.access_token_did_expire = True \n",
    "    \n",
    "\n",
    "    def get_token_data(self):\n",
    "        token_data = {\n",
    "            'grant_type': 'client_credentials'\n",
    "        }\n",
    "        return token_data\n",
    "\n",
    "    def get_client_credentials(self, decode = False):\n",
    "        if self.client_secret == None or self.client_secret == None:\n",
    "            raise Exception(\"You must include your client id and its secret keys\")\n",
    "\n",
    "        client_creds = f'{self.client_id}:{self.client_secret}'\n",
    "        client_creds_base64 = base64.b64encode(client_creds.encode())\n",
    "\n",
    "        if decode:\n",
    "            client_creds_base64_decode = client_creds_base64.decode()\n",
    "            return client_creds_base64_decode\n",
    "        \n",
    "        else:\n",
    "            return client_creds_base64\n",
    "    \n",
    "    def get_token_header(self):\n",
    "        client_credentials = self.get_client_credentials(decode=True)\n",
    "        token_headers = {\n",
    "            'Authorization': f'Basic {client_credentials}'\n",
    "        }\n",
    "        return token_headers\n",
    "        \n",
    "    \n",
    "    def perform_auth(self, show_auth = False):\n",
    "        user_token_data = self.get_token_data()\n",
    "        user_token_headers = self.get_token_header()\n",
    "\n",
    "        r = requests.post(url=self.token_url, data=user_token_data, headers=user_token_headers)\n",
    "        if r.status_code in range(200, 299):\n",
    "            if show_auth:\n",
    "                print(json.dumps(r.json()))\n",
    "            \n",
    "            token_response_data = r.json()\n",
    "            now = datetime.datetime.now()\n",
    "\n",
    "            self.access_token = token_response_data['access_token']\n",
    "            access_token_expires_in = token_response_data['expires_in']\n",
    "            self.token_expires = now + datetime.timedelta(seconds=access_token_expires_in)\n",
    "            self.access_token_did_expire = self.token_expires < now \n",
    "\n",
    "            return True \n",
    "        return False "
   ]
  },
  {
   "cell_type": "code",
   "execution_count": 3,
   "metadata": {},
   "outputs": [],
   "source": [
    "client_id = '2476c1f2ab024aae8debc9146cd01926'\n",
    "client_secret = '5628b40e45294570a9b115af35654b64'"
   ]
  },
  {
   "cell_type": "code",
   "execution_count": 4,
   "metadata": {},
   "outputs": [],
   "source": [
    "sc = SpotifyClient(client_id, client_secret)"
   ]
  },
  {
   "cell_type": "code",
   "execution_count": 5,
   "metadata": {},
   "outputs": [
    {
     "data": {
      "text/plain": [
       "True"
      ]
     },
     "execution_count": 5,
     "metadata": {},
     "output_type": "execute_result"
    }
   ],
   "source": [
    "sc.perform_auth()"
   ]
  },
  {
   "cell_type": "code",
   "execution_count": 6,
   "metadata": {},
   "outputs": [
    {
     "data": {
      "text/plain": [
       "'BQBx_B4vD7R8d5qMb19DaDsSOB7MNR6UN_tcW4P6XyUyCKlHvKPMRSVtE6fUPV9fG3lOJ5d2OdlQdnDs_Kk'"
      ]
     },
     "execution_count": 6,
     "metadata": {},
     "output_type": "execute_result"
    }
   ],
   "source": [
    "sc.access_token"
   ]
  },
  {
   "cell_type": "code",
   "execution_count": null,
   "metadata": {},
   "outputs": [],
   "source": []
  }
 ],
 "metadata": {
  "kernelspec": {
   "display_name": "Python 3",
   "language": "python",
   "name": "python3"
  },
  "language_info": {
   "codemirror_mode": {
    "name": "ipython",
    "version": 3
   },
   "file_extension": ".py",
   "mimetype": "text/x-python",
   "name": "python",
   "nbconvert_exporter": "python",
   "pygments_lexer": "ipython3",
   "version": "3.8.5"
  }
 },
 "nbformat": 4,
 "nbformat_minor": 4
}
